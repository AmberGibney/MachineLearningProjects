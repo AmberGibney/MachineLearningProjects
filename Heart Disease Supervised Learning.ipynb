{
 "cells": [
  {
   "cell_type": "code",
   "execution_count": 43,
   "metadata": {},
   "outputs": [
    {
     "name": "stdout",
     "output_type": "stream",
     "text": [
      "Analysis conducted in Python 3.7.1\n",
      "The scikit-learn version is 0.23.2.\n",
      "The pandas version is 1.0.3.\n"
     ]
    }
   ],
   "source": [
    "from platform import python_version\n",
    "import sklearn\n",
    "import pandas as pd\n",
    "\n",
    "print('Analysis conducted in Python', python_version())\n",
    "\n",
    "print('The scikit-learn version is {}.'.format(sklearn.__version__))\n",
    "print('The pandas version is {}.'.format(pd.__version__))\n"
   ]
  },
  {
   "cell_type": "markdown",
   "metadata": {},
   "source": [
    "# Angiography patients"
   ]
  },
  {
   "cell_type": "code",
   "execution_count": 40,
   "metadata": {
    "scrolled": true
   },
   "outputs": [
    {
     "name": "stderr",
     "output_type": "stream",
     "text": [
      "C:\\Users\\Amber\\Anaconda3\\lib\\site-packages\\ipykernel_launcher.py:30: FutureWarning: Passing a negative integer is deprecated in version 1.0 and will not be supported in future version. Instead, use None to not limit the column width.\n"
     ]
    }
   ],
   "source": [
    "# import libraries\n",
    "%matplotlib inline\n",
    "\n",
    "import time\n",
    "import numpy as np\n",
    "import seaborn as sns\n",
    "import pandas as pd\n",
    "import matplotlib.pyplot as plt\n",
    "\n",
    "from sklearn.pipeline import Pipeline, make_pipeline\n",
    "from sklearn.preprocessing import OneHotEncoder\n",
    "from sklearn.compose import ColumnTransformer\n",
    "from sklearn.ensemble import RandomForestClassifier\n",
    "from sklearn.impute import SimpleImputer\n",
    "from xgboost import XGBClassifier\n",
    "\n",
    "\n",
    "\n",
    "plt.style.use('fivethirtyeight')\n",
    "\n",
    "from sklearn.model_selection import train_test_split, cross_val_score, GridSearchCV, StratifiedKFold\n",
    "from sklearn.metrics import (confusion_matrix, accuracy_score, roc_auc_score ,roc_curve,auc, precision_recall_curve, \n",
    "f1_score, average_precision_score, auc)\n",
    "from sklearn.linear_model import LogisticRegression\n",
    "from sklearn import metrics\n",
    "\n",
    "\n",
    "pd.set_option('display.max_columns', 200)\n",
    "pd.set_option('display.max_rows', 2000)\n",
    "pd.set_option('display.max_colwidth', -1)\n",
    "\n",
    "from IPython.core.interactiveshell import InteractiveShell\n",
    "InteractiveShell.ast_node_interactivity = \"all\""
   ]
  },
  {
   "cell_type": "markdown",
   "metadata": {},
   "source": [
    "# read in data"
   ]
  },
  {
   "cell_type": "code",
   "execution_count": 5,
   "metadata": {},
   "outputs": [
    {
     "data": {
      "text/plain": [
       "(303, 14)"
      ]
     },
     "execution_count": 5,
     "metadata": {},
     "output_type": "execute_result"
    }
   ],
   "source": [
    "# read data in from dat file and assign column headers based on supporting info\n",
    "\n",
    "url = 'https://archive.ics.uci.edu/ml/machine-learning-databases/heart-disease/processed.cleveland.data'\n",
    "\n",
    "df = pd.read_table(url, sep=\",\",  names=['age','sex','cp','trestbps','chol','fbs','restecg','thalach','exang','oldpeak', 'slope',\n",
    "                         'ca', 'thal', 'num'])\n",
    "\n",
    "# create a new binary variable for the target in which 'num' > 0 is heart disease\n",
    "# drop unecessary 'num' catgeory\n",
    "\n",
    "df['target'] = 0\n",
    "\n",
    "df.loc[(df['num'] > 0), 'target'] = 1\n",
    "\n",
    "df.drop(columns =['num'], inplace=True)\n",
    "\n",
    "df.shape"
   ]
  },
  {
   "cell_type": "markdown",
   "metadata": {},
   "source": [
    "# Cleaning step 1: expected data types\n",
    "\n",
    "* We find that two columns expected to be numeric are objects. \n",
    "* Check the values and find ? symbol used for missing data"
   ]
  },
  {
   "cell_type": "code",
   "execution_count": 6,
   "metadata": {},
   "outputs": [
    {
     "name": "stdout",
     "output_type": "stream",
     "text": [
      "0.0    176\n",
      "1.0    65 \n",
      "2.0    38 \n",
      "3.0    20 \n",
      "?      4  \n",
      "Name: ca, dtype: int64\n",
      "3.0    166\n",
      "7.0    117\n",
      "6.0    18 \n",
      "?      2  \n",
      "Name: thal, dtype: int64\n"
     ]
    }
   ],
   "source": [
    "# find any non-numeric columns\n",
    "non_numeric_columns = list(df.select_dtypes(include=object).columns.values)\n",
    "\n",
    "# print value counts\n",
    "for a in non_numeric_columns:\n",
    "    b = df[a].value_counts()\n",
    "    print(b)\n",
    "    \n",
    "# drop rows with missing values \n",
    "df1 = df[df['thal'] != '?'].copy()\n",
    "df2 = df1[df1['ca'] != '?'].copy()\n",
    "\n",
    "# convert those columns back to float\n",
    "df2[\"ca\"] = pd.to_numeric(df2[\"ca\"])\n",
    "df2[\"thal\"] = pd.to_numeric(df2[\"thal\"])"
   ]
  },
  {
   "cell_type": "markdown",
   "metadata": {},
   "source": [
    "# Cleaning step 2: sense check min and max, blanks\n",
    "\n",
    "* Mins and maxes of categorical variables are all within the specified bounds.\n",
    "* There are no blanks.\n",
    "* Quick background research and prior knowledge imply continuous fields are plausible (unsure whether cholesterol is total and BP is systolic or diastolic) - if actual research piece would need input on expected levels for verification purposes"
   ]
  },
  {
   "cell_type": "code",
   "execution_count": 7,
   "metadata": {},
   "outputs": [
    {
     "data": {
      "text/html": [
       "<div>\n",
       "<style scoped>\n",
       "    .dataframe tbody tr th:only-of-type {\n",
       "        vertical-align: middle;\n",
       "    }\n",
       "\n",
       "    .dataframe tbody tr th {\n",
       "        vertical-align: top;\n",
       "    }\n",
       "\n",
       "    .dataframe thead th {\n",
       "        text-align: right;\n",
       "    }\n",
       "</style>\n",
       "<table border=\"1\" class=\"dataframe\">\n",
       "  <thead>\n",
       "    <tr style=\"text-align: right;\">\n",
       "      <th></th>\n",
       "      <th>age</th>\n",
       "      <th>sex</th>\n",
       "      <th>cp</th>\n",
       "      <th>trestbps</th>\n",
       "      <th>chol</th>\n",
       "      <th>fbs</th>\n",
       "      <th>restecg</th>\n",
       "      <th>thalach</th>\n",
       "      <th>exang</th>\n",
       "      <th>oldpeak</th>\n",
       "      <th>slope</th>\n",
       "      <th>ca</th>\n",
       "      <th>thal</th>\n",
       "      <th>target</th>\n",
       "    </tr>\n",
       "  </thead>\n",
       "  <tbody>\n",
       "    <tr>\n",
       "      <th>min</th>\n",
       "      <td>29.0</td>\n",
       "      <td>0.0</td>\n",
       "      <td>1.0</td>\n",
       "      <td>94.0</td>\n",
       "      <td>126.0</td>\n",
       "      <td>0.0</td>\n",
       "      <td>0.0</td>\n",
       "      <td>71.0</td>\n",
       "      <td>0.0</td>\n",
       "      <td>0.0</td>\n",
       "      <td>1.0</td>\n",
       "      <td>0.0</td>\n",
       "      <td>3.0</td>\n",
       "      <td>0.0</td>\n",
       "    </tr>\n",
       "    <tr>\n",
       "      <th>max</th>\n",
       "      <td>77.0</td>\n",
       "      <td>1.0</td>\n",
       "      <td>4.0</td>\n",
       "      <td>200.0</td>\n",
       "      <td>564.0</td>\n",
       "      <td>1.0</td>\n",
       "      <td>2.0</td>\n",
       "      <td>202.0</td>\n",
       "      <td>1.0</td>\n",
       "      <td>6.2</td>\n",
       "      <td>3.0</td>\n",
       "      <td>3.0</td>\n",
       "      <td>7.0</td>\n",
       "      <td>1.0</td>\n",
       "    </tr>\n",
       "  </tbody>\n",
       "</table>\n",
       "</div>"
      ],
      "text/plain": [
       "      age  sex   cp  trestbps   chol  fbs  restecg  thalach  exang  oldpeak  \\\n",
       "min  29.0  0.0  1.0  94.0      126.0  0.0  0.0      71.0     0.0    0.0       \n",
       "max  77.0  1.0  4.0  200.0     564.0  1.0  2.0      202.0    1.0    6.2       \n",
       "\n",
       "     slope   ca  thal  target  \n",
       "min  1.0    0.0  3.0   0.0     \n",
       "max  3.0    3.0  7.0   1.0     "
      ]
     },
     "execution_count": 7,
     "metadata": {},
     "output_type": "execute_result"
    },
    {
     "name": "stdout",
     "output_type": "stream",
     "text": [
      "No missing values\n"
     ]
    }
   ],
   "source": [
    "# check min max\n",
    "\n",
    "df2.describe().loc[['min','max']]\n",
    "\n",
    "# check for blanks\n",
    "blanks = df2.isna().sum()\n",
    "\n",
    "if blanks.sum() == 0:\n",
    "    print('No missing values')\n",
    "else:\n",
    "\n",
    "    for a in blanks:\n",
    "        if a >0:\n",
    "            print('there are blanks in {}'.format(a))\n",
    "        else:\n",
    "            pass"
   ]
  },
  {
   "cell_type": "markdown",
   "metadata": {},
   "source": [
    "# Histograms to get a better sense of the data"
   ]
  },
  {
   "cell_type": "code",
   "execution_count": 8,
   "metadata": {
    "scrolled": false
   },
   "outputs": [
    {
     "data": {
      "image/png": "[encoded data removed]",
      "text/plain": [
       "<Figure size 720x576 with 16 Axes>"
      ]
     },
     "metadata": {},
     "output_type": "display_data"
    }
   ],
   "source": [
    "fig = df2.hist(figsize=(10,8), layout=(4,4))\n",
    "plt.tight_layout()\n",
    "plt.show()"
   ]
  },
  {
   "cell_type": "markdown",
   "metadata": {},
   "source": [
    "# Target distribution to see what the class balance is"
   ]
  },
  {
   "cell_type": "code",
   "execution_count": 31,
   "metadata": {
    "scrolled": false
   },
   "outputs": [
    {
     "data": {
      "image/png": "[encoded data removed]",
      "text/plain": [
       "<Figure size 720x360 with 1 Axes>"
      ]
     },
     "metadata": {},
     "output_type": "display_data"
    }
   ],
   "source": [
    "targets = df2['target'].value_counts()\n",
    "class_names = ['No heart disease {}'.format(targets[0]), 'Heart disease {}'.format(targets[1])]\n",
    "\n",
    "plt.figure(figsize=(10,5))\n",
    "ax = sns.barplot(targets.index, targets.values, alpha=1)\n",
    "plt.title('Heart disease')\n",
    "plt.ylabel('Number of records', fontsize=12)\n",
    "ax.set_xticklabels(class_names, rotation='horizontal', fontsize=10)\n",
    "\n",
    "plt.show();"
   ]
  },
  {
   "cell_type": "markdown",
   "metadata": {},
   "source": [
    "# Beginning feature selection with filter methods"
   ]
  },
  {
   "cell_type": "code",
   "execution_count": 10,
   "metadata": {},
   "outputs": [],
   "source": [
    "# make age groups (our min age is 29 and max age is 77)\n",
    "\n",
    "age_bins = [20, 40, 50, 60, 70, 80]\n",
    "\n",
    "age_cats = ['20-39', '40-49', '50-59', '60-69', '70-79']\n",
    "\n",
    "age_groups = pd.cut(df2['age'], age_bins, labels=age_cats)\n",
    "\n",
    "df2['age_groups'] = pd.cut(df2['age'], age_bins, labels=age_cats)"
   ]
  },
  {
   "cell_type": "markdown",
   "metadata": {},
   "source": [
    "## Let's look at association between categorical features and the target\n",
    "\n",
    "- We can use chi square contingency tables to examine catgeorgical features"
   ]
  },
  {
   "cell_type": "code",
   "execution_count": 11,
   "metadata": {
    "scrolled": true
   },
   "outputs": [
    {
     "name": "stdout",
     "output_type": "stream",
     "text": [
      "age_groups  20-39  40-49  50-59  60-69  70-79\n",
      "target                                       \n",
      "0           11     53     61     30     5    \n",
      "1           6      22     65     43     1    \n",
      "Keep_variable for age_groups\n",
      "cp      1.0  2.0  3.0  4.0\n",
      "target                    \n",
      "0       16   40   65   39 \n",
      "1       7    9    18   103\n",
      "Keep_variable for cp\n",
      "restecg  0.0  1.0  2.0\n",
      "target                \n",
      "0        92   1    67 \n",
      "1        55   3    79 \n",
      "Keep_variable for restecg\n",
      "slope   1.0  2.0  3.0\n",
      "target               \n",
      "0       103  48   9  \n",
      "1       36   89   12 \n",
      "Keep_variable for slope\n",
      "thal    3.0  6.0  7.0\n",
      "target               \n",
      "0       127  6    27 \n",
      "1       37   12   88 \n",
      "Keep_variable for thal\n",
      "sex     0.0  1.0\n",
      "target          \n",
      "0       71   89 \n",
      "1       25   112\n",
      "Keep_variable for sex\n",
      "fbs     0.0  1.0\n",
      "target          \n",
      "0       137  23 \n",
      "1       117  20 \n",
      "Drop variable for fbs\n",
      "exang   0.0  1.0\n",
      "target          \n",
      "0       137  23 \n",
      "1       63   74 \n",
      "Keep_variable for exang\n",
      "ca      0.0  1.0  2.0  3.0\n",
      "target                    \n",
      "0       129  21   7    3  \n",
      "1       45   44   31   17 \n",
      "Keep_variable for ca\n"
     ]
    }
   ],
   "source": [
    "from scipy.stats import chi2_contingency \n",
    "\n",
    "# make lists of categorical variables for encoding vs not\n",
    "\n",
    "encode_cat = ['age_groups','cp', 'restecg', 'slope', 'thal']\n",
    "non_cat = ['sex', 'fbs',  'exang', 'ca']\n",
    "\n",
    "\n",
    "# create blank list for variables to drop\n",
    "\n",
    "drop_list = []\n",
    "\n",
    "for i in encode_cat + non_cat :\n",
    "    ct = pd.crosstab(columns=df2[i],index=df[\"target\"])\n",
    "    stat, p, dof, expected = chi2_contingency(ct)\n",
    "\n",
    "    print(ct)\n",
    "    if p < 0.05:\n",
    "        print('Keep_variable for {}'.format(i))\n",
    "    else:\n",
    "        drop_list.append(i)\n",
    "        print('Drop variable for {}'.format(i))\n",
    "\n",
    "\n",
    "df2.drop(columns = drop_list, inplace=True)"
   ]
  },
  {
   "cell_type": "markdown",
   "metadata": {},
   "source": [
    "# Now we can look at continuous variables\n",
    "\n",
    "- we check for outliers and note that they are within acceptable bounds of plausibility\n",
    "- We see that age, oldpeak and thalach seem to be associated with the target"
   ]
  },
  {
   "cell_type": "code",
   "execution_count": 12,
   "metadata": {},
   "outputs": [
    {
     "name": "stdout",
     "output_type": "stream",
     "text": [
      "Identified outliers: 0\n",
      "Identified outliers: 2\n",
      "Identified outliers: 4\n",
      "Identified outliers: 1\n",
      "Identified outliers: 2\n"
     ]
    },
    {
     "data": {
      "text/html": [
       "<div>\n",
       "<style scoped>\n",
       "    .dataframe tbody tr th:only-of-type {\n",
       "        vertical-align: middle;\n",
       "    }\n",
       "\n",
       "    .dataframe tbody tr th {\n",
       "        vertical-align: top;\n",
       "    }\n",
       "\n",
       "    .dataframe thead th {\n",
       "        text-align: right;\n",
       "    }\n",
       "</style>\n",
       "<table border=\"1\" class=\"dataframe\">\n",
       "  <thead>\n",
       "    <tr style=\"text-align: right;\">\n",
       "      <th></th>\n",
       "      <th>variable</th>\n",
       "      <th>outliers</th>\n",
       "    </tr>\n",
       "  </thead>\n",
       "  <tbody>\n",
       "    <tr>\n",
       "      <th>0</th>\n",
       "      <td>age</td>\n",
       "      <td>[]</td>\n",
       "    </tr>\n",
       "    <tr>\n",
       "      <th>1</th>\n",
       "      <td>trestbps</td>\n",
       "      <td>[200.0, 192.0]</td>\n",
       "    </tr>\n",
       "    <tr>\n",
       "      <th>2</th>\n",
       "      <td>chol</td>\n",
       "      <td>[417.0, 407.0, 564.0, 409.0]</td>\n",
       "    </tr>\n",
       "    <tr>\n",
       "      <th>3</th>\n",
       "      <td>thalach</td>\n",
       "      <td>[71.0]</td>\n",
       "    </tr>\n",
       "    <tr>\n",
       "      <th>4</th>\n",
       "      <td>oldpeak</td>\n",
       "      <td>[6.2, 5.6]</td>\n",
       "    </tr>\n",
       "  </tbody>\n",
       "</table>\n",
       "</div>"
      ],
      "text/plain": [
       "   variable                      outliers\n",
       "0  age       []                          \n",
       "1  trestbps  [200.0, 192.0]              \n",
       "2  chol      [417.0, 407.0, 564.0, 409.0]\n",
       "3  thalach   [71.0]                      \n",
       "4  oldpeak   [6.2, 5.6]                  "
      ]
     },
     "execution_count": 12,
     "metadata": {},
     "output_type": "execute_result"
    }
   ],
   "source": [
    "# calculate summary statistics\n",
    "from numpy import mean, std\n",
    "\n",
    "# continuous variable list\n",
    "var_cont = ['age', 'trestbps', 'chol', 'thalach', 'oldpeak']\n",
    "\n",
    "\n",
    "# create list\n",
    "outlier_list = []\n",
    "\n",
    "for i in var_cont:\n",
    "    \n",
    "    data_mean, data_std = mean(df2[i]), std(df2[i])\n",
    "    # identify outliers\n",
    "    cut_off = data_std * 3\n",
    "    lower, upper = (data_mean - cut_off), (data_mean + cut_off)\n",
    "    # identify outliers\n",
    "    outliers = [x for x in df2[i] if (x < lower) or (x > upper)]\n",
    "    outlier_list.append(outliers)\n",
    "    print('Identified outliers: %d' % len(outliers))\n",
    "\n",
    "outlier_df = pd.DataFrame()\n",
    "#outlier_df\n",
    "\n",
    "outlier_df['variable'] = var_cont\n",
    "outlier_df['outliers'] = outlier_list\n",
    "\n",
    "outlier_df"
   ]
  },
  {
   "cell_type": "code",
   "execution_count": 35,
   "metadata": {},
   "outputs": [
    {
     "data": {
      "text/html": [
       "<div>\n",
       "<style scoped>\n",
       "    .dataframe tbody tr th:only-of-type {\n",
       "        vertical-align: middle;\n",
       "    }\n",
       "\n",
       "    .dataframe tbody tr th {\n",
       "        vertical-align: top;\n",
       "    }\n",
       "\n",
       "    .dataframe thead th {\n",
       "        text-align: right;\n",
       "    }\n",
       "</style>\n",
       "<table border=\"1\" class=\"dataframe\">\n",
       "  <thead>\n",
       "    <tr style=\"text-align: right;\">\n",
       "      <th></th>\n",
       "      <th>age</th>\n",
       "      <th>trestbps</th>\n",
       "      <th>chol</th>\n",
       "      <th>thalach</th>\n",
       "      <th>oldpeak</th>\n",
       "    </tr>\n",
       "    <tr>\n",
       "      <th>target</th>\n",
       "      <th></th>\n",
       "      <th></th>\n",
       "      <th></th>\n",
       "      <th></th>\n",
       "      <th></th>\n",
       "    </tr>\n",
       "  </thead>\n",
       "  <tbody>\n",
       "    <tr>\n",
       "      <th>0</th>\n",
       "      <td>52.643750</td>\n",
       "      <td>129.175000</td>\n",
       "      <td>243.493750</td>\n",
       "      <td>158.581250</td>\n",
       "      <td>0.598750</td>\n",
       "    </tr>\n",
       "    <tr>\n",
       "      <th>1</th>\n",
       "      <td>56.759124</td>\n",
       "      <td>134.635036</td>\n",
       "      <td>251.854015</td>\n",
       "      <td>139.109489</td>\n",
       "      <td>1.589051</td>\n",
       "    </tr>\n",
       "  </tbody>\n",
       "</table>\n",
       "</div>"
      ],
      "text/plain": [
       "              age    trestbps        chol     thalach   oldpeak\n",
       "target                                                         \n",
       "0       52.643750  129.175000  243.493750  158.581250  0.598750\n",
       "1       56.759124  134.635036  251.854015  139.109489  1.589051"
      ]
     },
     "execution_count": 35,
     "metadata": {},
     "output_type": "execute_result"
    },
    {
     "data": {
      "text/plain": [
       "<matplotlib.axes._subplots.AxesSubplot at 0x16b8afa9e80>"
      ]
     },
     "execution_count": 35,
     "metadata": {},
     "output_type": "execute_result"
    },
    {
     "data": {
      "text/plain": [
       "<matplotlib.axes._subplots.AxesSubplot at 0x16b8d7d6978>"
      ]
     },
     "execution_count": 35,
     "metadata": {},
     "output_type": "execute_result"
    },
    {
     "data": {
      "text/plain": [
       "<matplotlib.axes._subplots.AxesSubplot at 0x16b8acf2828>"
      ]
     },
     "execution_count": 35,
     "metadata": {},
     "output_type": "execute_result"
    },
    {
     "data": {
      "text/plain": [
       "<matplotlib.axes._subplots.AxesSubplot at 0x16b8d7f0208>"
      ]
     },
     "execution_count": 35,
     "metadata": {},
     "output_type": "execute_result"
    },
    {
     "data": {
      "text/plain": [
       "<matplotlib.axes._subplots.AxesSubplot at 0x16b8ad6dba8>"
      ]
     },
     "execution_count": 35,
     "metadata": {},
     "output_type": "execute_result"
    },
    {
     "data": {
      "image/png": "[encoded data removed]",
      "text/plain": [
       "<Figure size 1080x720 with 6 Axes>"
      ]
     },
     "metadata": {},
     "output_type": "display_data"
    }
   ],
   "source": [
    "# continuous variables\n",
    "df2[var_cont + ['target']].groupby(['target']).mean()\n",
    "\n",
    "fig, ax = plt.subplots(2, 3, figsize=(15, 10))\n",
    "for var, subplot in zip(var_cont, ax.flatten()):\n",
    "    sns.boxplot(x='target', y=var, data=df2, ax=subplot)"
   ]
  },
  {
   "cell_type": "markdown",
   "metadata": {},
   "source": [
    "## We can look for correlations between variables using spearman as it can be used for categorical and continuous and doesn't assume normality\n",
    "\n",
    "- We see then that no variables are highly correlated - spearman > 0.6, although slope and oldpeak are close"
   ]
  },
  {
   "cell_type": "code",
   "execution_count": 14,
   "metadata": {
    "scrolled": false
   },
   "outputs": [
    {
     "data": {
      "text/html": [
       "<div>\n",
       "<style scoped>\n",
       "    .dataframe tbody tr th:only-of-type {\n",
       "        vertical-align: middle;\n",
       "    }\n",
       "\n",
       "    .dataframe tbody tr th {\n",
       "        vertical-align: top;\n",
       "    }\n",
       "\n",
       "    .dataframe thead th {\n",
       "        text-align: right;\n",
       "    }\n",
       "</style>\n",
       "<table border=\"1\" class=\"dataframe\">\n",
       "  <thead>\n",
       "    <tr style=\"text-align: right;\">\n",
       "      <th></th>\n",
       "      <th>Feature 1</th>\n",
       "      <th>Feature 2</th>\n",
       "      <th>Correlation Coefficient</th>\n",
       "    </tr>\n",
       "  </thead>\n",
       "  <tbody>\n",
       "    <tr>\n",
       "      <th>12</th>\n",
       "      <td>slope</td>\n",
       "      <td>oldpeak</td>\n",
       "      <td>0.577537</td>\n",
       "    </tr>\n",
       "    <tr>\n",
       "      <th>14</th>\n",
       "      <td>target</td>\n",
       "      <td>exang</td>\n",
       "      <td>0.431894</td>\n",
       "    </tr>\n",
       "    <tr>\n",
       "      <th>16</th>\n",
       "      <td>target</td>\n",
       "      <td>oldpeak</td>\n",
       "      <td>0.424510</td>\n",
       "    </tr>\n",
       "    <tr>\n",
       "      <th>18</th>\n",
       "      <td>thalach</td>\n",
       "      <td>target</td>\n",
       "      <td>0.417167</td>\n",
       "    </tr>\n",
       "    <tr>\n",
       "      <th>20</th>\n",
       "      <td>target</td>\n",
       "      <td>cp</td>\n",
       "      <td>0.414446</td>\n",
       "    </tr>\n",
       "  </tbody>\n",
       "</table>\n",
       "</div>"
      ],
      "text/plain": [
       "   Feature 1 Feature 2  Correlation Coefficient\n",
       "12  slope     oldpeak   0.577537               \n",
       "14  target    exang     0.431894               \n",
       "16  target    oldpeak   0.424510               \n",
       "18  thalach   target    0.417167               \n",
       "20  target    cp        0.414446               "
      ]
     },
     "execution_count": 14,
     "metadata": {},
     "output_type": "execute_result"
    },
    {
     "data": {
      "image/png": "[encoded data removed]",
      "text/plain": [
       "<Figure size 432x288 with 2 Axes>"
      ]
     },
     "metadata": {},
     "output_type": "display_data"
    }
   ],
   "source": [
    "p = sns.heatmap(df2[['age', 'sex', 'trestbps', 'chol', 'thalach', 'exang', 'oldpeak']].corr('spearman'), center=0, cmap = 'RdYlGn')\n",
    "\n",
    "# Training set high correlations\n",
    "\n",
    "df_train_corr = df.corr().abs().unstack().sort_values(kind=\"quicksort\", ascending=False).reset_index()\n",
    "df_train_corr.rename(columns={\"level_0\": \"Feature 1\", \"level_1\": \"Feature 2\", 0: 'Correlation Coefficient'}, inplace=True)\n",
    "df_train_corr.drop(df_train_corr.iloc[1::2].index, inplace=True)\n",
    "df_train_corr_nd = df_train_corr.drop(df_train_corr[df_train_corr['Correlation Coefficient'] == 1.0].index)\n",
    "\n",
    "# set threshold at 0.4 for a moderate correlation\n",
    "corr = df_train_corr_nd['Correlation Coefficient'] > 0.4\n",
    "df_train_corr_nd[corr]"
   ]
  },
  {
   "cell_type": "markdown",
   "metadata": {},
   "source": [
    "## Model building - 3 different models"
   ]
  },
  {
   "cell_type": "code",
   "execution_count": 16,
   "metadata": {
    "scrolled": true
   },
   "outputs": [
    {
     "name": "stdout",
     "output_type": "stream",
     "text": [
      "LR train accuracy: 0.855\n",
      "LR test accuracy: 0.864\n",
      "rf train accuracy: 0.995\n",
      "rf test accuracy: 0.809\n",
      "xgb train accuracy: 0.906\n",
      "xgb test accuracy: 0.866\n"
     ]
    }
   ],
   "source": [
    "dummies_columns = ['age_groups','thal','slope', 'restecg', 'cp']\n",
    "\n",
    "numerical_columns = ['trestbps', 'chol', 'thalach', 'oldpeak', 'sex', 'exang', 'ca']\n",
    "\n",
    "X = df2.drop(columns='target')\n",
    "\n",
    "y = df2['target']\n",
    "\n",
    "X_train, X_test, y_train, y_test = train_test_split(\n",
    "    X, y, stratify=y, random_state=42)\n",
    "\n",
    "\n",
    "# pipeline stuff\n",
    "categorical_pipe = Pipeline([\n",
    "    ('onehot', OneHotEncoder(handle_unknown='ignore'))\n",
    "])\n",
    "\n",
    "# note that this is not used in this model\n",
    "numerical_pipe = Pipeline([\n",
    "    ('imputer', SimpleImputer(strategy='mean'))\n",
    "])\n",
    "\n",
    "preprocessing = ColumnTransformer(\n",
    "    [('cat', categorical_pipe, dummies_columns),\n",
    "     ('num', numerical_pipe, numerical_columns)])\n",
    "\n",
    "\n",
    "lr = Pipeline([\n",
    "    ('preprocess', preprocessing),\n",
    "    ('classifier', LogisticRegression(random_state=42, class_weight='balanced', max_iter=1000))\n",
    "])\n",
    "\n",
    "rf = Pipeline([\n",
    "    ('preprocess', preprocessing),\n",
    "    ('classifier', RandomForestClassifier(random_state=42, class_weight='balanced',))\n",
    "])\n",
    "\n",
    "xgb = Pipeline([\n",
    "    ('preprocess', preprocessing),\n",
    "    ('classifier', XGBClassifier(random_state=42))\n",
    "])\n",
    "\n",
    "# lR params\n",
    "\n",
    "\n",
    "# Create hyperparameter options\n",
    "\n",
    "param_grid_lr = [\n",
    "    {'classifier' : [LogisticRegression()],\n",
    "     'classifier__penalty' : ['l1', 'l2'],\n",
    "    'classifier__C' : np.logspace(-4, 4, 20),\n",
    "    'classifier__solver' : ['liblinear']}\n",
    "]\n",
    "\n",
    "param_grid_rf = [\n",
    "\n",
    "     {'classifier' : [RandomForestClassifier()],\n",
    "     'classifier__criterion':['gini','entropy'],\n",
    "    'classifier__n_estimators' : list(range(10,101,10)),\n",
    "    'classifier__max_features' : list(range(6,32,5))}\n",
    "]\n",
    "\n",
    "param_grid_xgb = [{'classifier' : [ XGBClassifier()],\n",
    "   'classifier__max_depth': range (2, 10, 1),\n",
    "    'classifier__n_estimators': range(60, 220, 40),\n",
    "    'classifier__learning_rate': [0.1, 0.01, 0.05]}\n",
    "]\n",
    "\n",
    "# Create grid search using 10-fold cross validation\n",
    "clf_lr = GridSearchCV(lr, param_grid_lr, cv=10, verbose=0, scoring='balanced_accuracy',n_jobs= -1)\n",
    "clf_rf = GridSearchCV(rf, param_grid_rf, cv=10, verbose=0, scoring='balanced_accuracy', n_jobs= -1)\n",
    "clf_xgb = GridSearchCV(xgb, param_grid_xgb,cv=10, verbose=0, scoring='balanced_accuracy', n_jobs= -1 )\n",
    "\n",
    "model_lr = clf_lr.fit(X_train, y_train)\n",
    "model_rf = clf_rf.fit(X_train, y_train)\n",
    "model_xgb = clf_xgb.fit(X_train, y_train)\n",
    "\n",
    "\n",
    "print(\"LR train accuracy: %0.3f\" % clf_lr.score(X_train, y_train))\n",
    "print(\"LR test accuracy: %0.3f\" % clf_lr.score(X_test, y_test))\n",
    "\n",
    "print(\"rf train accuracy: %0.3f\" % clf_rf.score(X_train, y_train))\n",
    "print(\"rf test accuracy: %0.3f\" % clf_rf.score(X_test, y_test))\n",
    "\n",
    "print(\"xgb train accuracy: %0.3f\" % clf_xgb.score(X_train, y_train))\n",
    "print(\"xgb test accuracy: %0.3f\" % clf_xgb.score(X_test, y_test))"
   ]
  },
  {
   "cell_type": "markdown",
   "metadata": {},
   "source": [
    "# Get parameters of best models"
   ]
  },
  {
   "cell_type": "code",
   "execution_count": 22,
   "metadata": {
    "scrolled": false
   },
   "outputs": [
    {
     "data": {
      "text/html": [
       "<div>\n",
       "<style scoped>\n",
       "    .dataframe tbody tr th:only-of-type {\n",
       "        vertical-align: middle;\n",
       "    }\n",
       "\n",
       "    .dataframe tbody tr th {\n",
       "        vertical-align: top;\n",
       "    }\n",
       "\n",
       "    .dataframe thead th {\n",
       "        text-align: right;\n",
       "    }\n",
       "</style>\n",
       "<table border=\"1\" class=\"dataframe\">\n",
       "  <thead>\n",
       "    <tr style=\"text-align: right;\">\n",
       "      <th></th>\n",
       "      <th>classifier</th>\n",
       "      <th>classifier__C</th>\n",
       "      <th>classifier__penalty</th>\n",
       "      <th>classifier__solver</th>\n",
       "      <th>means</th>\n",
       "      <th>std</th>\n",
       "    </tr>\n",
       "  </thead>\n",
       "  <tbody>\n",
       "    <tr>\n",
       "      <th>15</th>\n",
       "      <td>LogisticRegression(C=0.08858667904100823, solver='liblinear')</td>\n",
       "      <td>0.088587</td>\n",
       "      <td>l2</td>\n",
       "      <td>liblinear</td>\n",
       "      <td>0.827273</td>\n",
       "      <td>0.093924</td>\n",
       "    </tr>\n",
       "  </tbody>\n",
       "</table>\n",
       "</div>"
      ],
      "text/plain": [
       "                                                       classifier  \\\n",
       "15  LogisticRegression(C=0.08858667904100823, solver='liblinear')   \n",
       "\n",
       "    classifier__C classifier__penalty classifier__solver     means       std  \n",
       "15  0.088587       l2                  liblinear          0.827273  0.093924  "
      ]
     },
     "execution_count": 22,
     "metadata": {},
     "output_type": "execute_result"
    },
    {
     "data": {
      "text/html": [
       "<div>\n",
       "<style scoped>\n",
       "    .dataframe tbody tr th:only-of-type {\n",
       "        vertical-align: middle;\n",
       "    }\n",
       "\n",
       "    .dataframe tbody tr th {\n",
       "        vertical-align: top;\n",
       "    }\n",
       "\n",
       "    .dataframe thead th {\n",
       "        text-align: right;\n",
       "    }\n",
       "</style>\n",
       "<table border=\"1\" class=\"dataframe\">\n",
       "  <thead>\n",
       "    <tr style=\"text-align: right;\">\n",
       "      <th></th>\n",
       "      <th>classifier</th>\n",
       "      <th>classifier__criterion</th>\n",
       "      <th>classifier__max_features</th>\n",
       "      <th>classifier__n_estimators</th>\n",
       "      <th>means</th>\n",
       "      <th>std</th>\n",
       "    </tr>\n",
       "  </thead>\n",
       "  <tbody>\n",
       "    <tr>\n",
       "      <th>64</th>\n",
       "      <td>RandomForestClassifier(criterion='entropy', max_features=6, n_estimators=50)</td>\n",
       "      <td>entropy</td>\n",
       "      <td>6</td>\n",
       "      <td>50</td>\n",
       "      <td>0.830985</td>\n",
       "      <td>0.075833</td>\n",
       "    </tr>\n",
       "  </tbody>\n",
       "</table>\n",
       "</div>"
      ],
      "text/plain": [
       "                                                                      classifier  \\\n",
       "64  RandomForestClassifier(criterion='entropy', max_features=6, n_estimators=50)   \n",
       "\n",
       "   classifier__criterion  classifier__max_features  classifier__n_estimators  \\\n",
       "64  entropy               6                         50                         \n",
       "\n",
       "       means       std  \n",
       "64  0.830985  0.075833  "
      ]
     },
     "execution_count": 22,
     "metadata": {},
     "output_type": "execute_result"
    },
    {
     "data": {
      "text/html": [
       "<div>\n",
       "<style scoped>\n",
       "    .dataframe tbody tr th:only-of-type {\n",
       "        vertical-align: middle;\n",
       "    }\n",
       "\n",
       "    .dataframe tbody tr th {\n",
       "        vertical-align: top;\n",
       "    }\n",
       "\n",
       "    .dataframe thead th {\n",
       "        text-align: right;\n",
       "    }\n",
       "</style>\n",
       "<table border=\"1\" class=\"dataframe\">\n",
       "  <thead>\n",
       "    <tr style=\"text-align: right;\">\n",
       "      <th></th>\n",
       "      <th>classifier</th>\n",
       "      <th>classifier__learning_rate</th>\n",
       "      <th>classifier__max_depth</th>\n",
       "      <th>classifier__n_estimators</th>\n",
       "      <th>means</th>\n",
       "      <th>std</th>\n",
       "    </tr>\n",
       "  </thead>\n",
       "  <tbody>\n",
       "    <tr>\n",
       "      <th>67</th>\n",
       "      <td>XGBClassifier(max_depth=2)</td>\n",
       "      <td>0.05</td>\n",
       "      <td>2</td>\n",
       "      <td>180</td>\n",
       "      <td>0.820152</td>\n",
       "      <td>0.087262</td>\n",
       "    </tr>\n",
       "  </tbody>\n",
       "</table>\n",
       "</div>"
      ],
      "text/plain": [
       "                    classifier  classifier__learning_rate  \\\n",
       "67  XGBClassifier(max_depth=2)  0.05                        \n",
       "\n",
       "    classifier__max_depth  classifier__n_estimators     means       std  \n",
       "67  2                      180                       0.820152  0.087262  "
      ]
     },
     "execution_count": 22,
     "metadata": {},
     "output_type": "execute_result"
    }
   ],
   "source": [
    "lr_dict = pd.DataFrame.from_dict(clf_lr.cv_results_['params'], orient='columns')\n",
    "lr_dict['means'] = clf_lr.cv_results_['mean_test_score']\n",
    "lr_dict['std'] = clf_lr.cv_results_['std_test_score']\n",
    "\n",
    "lr_dict.sort_values(by='means', ascending=False).head(1)\n",
    "\n",
    "rf_dict = pd.DataFrame.from_dict(clf_rf.cv_results_['params'], orient='columns')\n",
    "rf_dict['means'] = clf_rf.cv_results_['mean_test_score']\n",
    "rf_dict['std'] = clf_rf.cv_results_['std_test_score']\n",
    "\n",
    "rf_dict.sort_values(by='means', ascending=False).head(1)\n",
    "\n",
    "xgb_dict = pd.DataFrame.from_dict(clf_xgb.cv_results_['params'], orient='columns')\n",
    "xgb_dict['means'] = clf_xgb.cv_results_['mean_test_score']\n",
    "xgb_dict['std'] = clf_xgb.cv_results_['std_test_score']\n",
    "\n",
    "xgb_dict.sort_values(by='means', ascending=False).head(1)"
   ]
  },
  {
   "cell_type": "markdown",
   "metadata": {},
   "source": [
    "# Confusion matrix for LR"
   ]
  },
  {
   "cell_type": "code",
   "execution_count": 23,
   "metadata": {},
   "outputs": [
    {
     "name": "stdout",
     "output_type": "stream",
     "text": [
      "[[36  4]\n",
      " [ 6 29]]\n",
      "              precision    recall  f1-score   support\n",
      "\n",
      "           0       0.86      0.90      0.88        40\n",
      "           1       0.88      0.83      0.85        35\n",
      "\n",
      "    accuracy                           0.87        75\n",
      "   macro avg       0.87      0.86      0.87        75\n",
      "weighted avg       0.87      0.87      0.87        75\n",
      "\n",
      "0.8642857142857143\n",
      "0.9392857142857143\n",
      "0.8529411764705883\n"
     ]
    }
   ],
   "source": [
    "best_model = model_lr\n",
    "\n",
    "# predict class labels for test set\n",
    "\n",
    "predicted = best_model.predict(X_test)\n",
    "\n",
    "\n",
    "# generate class probabilities\n",
    "\n",
    "probs = best_model.predict_proba(X_test)\n",
    "\n",
    "THRESHOLD = 0.5\n",
    "preds = np.where(best_model.predict_proba(X_test)[:,1] > THRESHOLD, 1, 0)\n",
    "\n",
    "print(metrics.confusion_matrix(y_test, preds))\n",
    "print(metrics.classification_report(y_test, preds))\n",
    "print(metrics.balanced_accuracy_score(y_test, preds))\n",
    "print(metrics.roc_auc_score(y_test, probs[:, 1]))\n",
    "print(metrics.f1_score(y_test, preds))\n"
   ]
  },
  {
   "cell_type": "markdown",
   "metadata": {},
   "source": [
    "# Confusion matrix for RF"
   ]
  },
  {
   "cell_type": "code",
   "execution_count": 20,
   "metadata": {},
   "outputs": [
    {
     "name": "stdout",
     "output_type": "stream",
     "text": [
      "[[35  5]\n",
      " [ 9 26]]\n",
      "              precision    recall  f1-score   support\n",
      "\n",
      "           0       0.80      0.88      0.83        40\n",
      "           1       0.84      0.74      0.79        35\n",
      "\n",
      "    accuracy                           0.81        75\n",
      "   macro avg       0.82      0.81      0.81        75\n",
      "weighted avg       0.82      0.81      0.81        75\n",
      "\n",
      "0.8089285714285714\n",
      "0.9239285714285714\n",
      "0.787878787878788\n"
     ]
    }
   ],
   "source": [
    "best_model = model_rf\n",
    "\n",
    "# predict class labels for test set\n",
    "\n",
    "predicted = best_model.predict(X_test)\n",
    "\n",
    "\n",
    "# generate class probabilities\n",
    "\n",
    "probs = best_model.predict_proba(X_test)\n",
    "\n",
    "THRESHOLD = 0.5\n",
    "preds = np.where(best_model.predict_proba(X_test)[:,1] > THRESHOLD, 1, 0)\n",
    "\n",
    "print(metrics.confusion_matrix(y_test, preds))\n",
    "print(metrics.classification_report(y_test, preds))\n",
    "print(metrics.balanced_accuracy_score(y_test, preds))\n",
    "print(metrics.roc_auc_score(y_test, probs[:, 1]))\n",
    "print(metrics.f1_score(y_test, preds))\n"
   ]
  },
  {
   "cell_type": "markdown",
   "metadata": {},
   "source": [
    "# Confusion matrix for XGB"
   ]
  },
  {
   "cell_type": "code",
   "execution_count": 21,
   "metadata": {},
   "outputs": [
    {
     "name": "stdout",
     "output_type": "stream",
     "text": [
      "[[35  5]\n",
      " [ 5 30]]\n",
      "              precision    recall  f1-score   support\n",
      "\n",
      "           0       0.88      0.88      0.88        40\n",
      "           1       0.86      0.86      0.86        35\n",
      "\n",
      "    accuracy                           0.87        75\n",
      "   macro avg       0.87      0.87      0.87        75\n",
      "weighted avg       0.87      0.87      0.87        75\n",
      "\n",
      "0.8660714285714286\n",
      "0.9235714285714286\n",
      "0.8571428571428571\n"
     ]
    }
   ],
   "source": [
    "best_model = model_xgb\n",
    "\n",
    "# predict class labels for test set\n",
    "\n",
    "predicted = best_model.predict(X_test)\n",
    "\n",
    "\n",
    "# generate class probabilities\n",
    "\n",
    "probs = best_model.predict_proba(X_test)\n",
    "\n",
    "THRESHOLD = 0.5\n",
    "preds = np.where(best_model.predict_proba(X_test)[:,1] > THRESHOLD, 1, 0)\n",
    "\n",
    "print(metrics.confusion_matrix(y_test, preds))\n",
    "print(metrics.classification_report(y_test, preds))\n",
    "print(metrics.balanced_accuracy_score(y_test, preds))\n",
    "print(metrics.roc_auc_score(y_test, probs[:, 1]))\n",
    "print(metrics.f1_score(y_test, preds))\n"
   ]
  },
  {
   "cell_type": "markdown",
   "metadata": {},
   "source": [
    "## Permutation importance for logistic regression"
   ]
  },
  {
   "cell_type": "code",
   "execution_count": 24,
   "metadata": {},
   "outputs": [
    {
     "name": "stdout",
     "output_type": "stream",
     "text": [
      "ca      0.064 +/- 0.020\n",
      "thal    0.055 +/- 0.015\n"
     ]
    },
    {
     "data": {
      "image/png": "[encoded data removed]",
      "text/plain": [
       "<Figure size 432x288 with 1 Axes>"
      ]
     },
     "metadata": {},
     "output_type": "display_data"
    }
   ],
   "source": [
    "from sklearn.inspection import permutation_importance\n",
    "\n",
    "r = permutation_importance(model_lr, X_test, y_test, n_repeats=10, random_state=42, n_jobs=2)\n",
    "sorted_idx = r.importances_mean.argsort()\n",
    "\n",
    "for i in r.importances_mean.argsort()[::-1]:\n",
    "        if r.importances_mean[i] - 2 * r.importances_std[i] > 0:\n",
    "             print(f\"{X_test.columns[i]:<8}\"\n",
    "                   f\"{r.importances_mean[i]:.3f}\"\n",
    "                   f\" +/- {r.importances_std[i]:.3f}\")\n",
    "fig, ax = plt.subplots()\n",
    "ax.boxplot(r.importances[sorted_idx].T,\n",
    "           vert=False, labels=X_test.columns[sorted_idx])\n",
    "ax.set_title(\"Logistic Regression\")\n",
    "fig.tight_layout()\n",
    "plt.show();"
   ]
  },
  {
   "cell_type": "markdown",
   "metadata": {},
   "source": [
    "## Permutation importance for XGBoost"
   ]
  },
  {
   "cell_type": "code",
   "execution_count": 25,
   "metadata": {},
   "outputs": [
    {
     "name": "stdout",
     "output_type": "stream",
     "text": [
      "ca      0.065 +/- 0.020\n",
      "thal    0.061 +/- 0.016\n",
      "oldpeak 0.059 +/- 0.028\n",
      "sex     0.020 +/- 0.009\n"
     ]
    },
    {
     "data": {
      "image/png": "[encoded data removed]",
      "text/plain": [
       "<Figure size 432x288 with 1 Axes>"
      ]
     },
     "metadata": {},
     "output_type": "display_data"
    }
   ],
   "source": [
    "from sklearn.inspection import permutation_importance\n",
    "\n",
    "r = permutation_importance(model_xgb, X_test, y_test, n_repeats=10, random_state=42, n_jobs=2)\n",
    "sorted_idx = r.importances_mean.argsort()\n",
    "\n",
    "for i in r.importances_mean.argsort()[::-1]:\n",
    "        if r.importances_mean[i] - 2 * r.importances_std[i] > 0:\n",
    "             print(f\"{X_test.columns[i]:<8}\"\n",
    "                   f\"{r.importances_mean[i]:.3f}\"\n",
    "                   f\" +/- {r.importances_std[i]:.3f}\")\n",
    "fig, ax = plt.subplots()\n",
    "ax.boxplot(r.importances[sorted_idx].T,\n",
    "           vert=False, labels=X_test.columns[sorted_idx])\n",
    "ax.set_title(\"XGB\")\n",
    "fig.tight_layout()\n",
    "plt.show();"
   ]
  },
  {
   "cell_type": "markdown",
   "metadata": {},
   "source": [
    "## Permutation importance for Random Forest"
   ]
  },
  {
   "cell_type": "code",
   "execution_count": 26,
   "metadata": {},
   "outputs": [
    {
     "name": "stdout",
     "output_type": "stream",
     "text": [
      "thal    0.070 +/- 0.023\n"
     ]
    },
    {
     "data": {
      "image/png": "[encoded data removed]",
      "text/plain": [
       "<Figure size 432x288 with 1 Axes>"
      ]
     },
     "metadata": {},
     "output_type": "display_data"
    }
   ],
   "source": [
    "from sklearn.inspection import permutation_importance\n",
    "\n",
    "r = permutation_importance(model_rf, X_test, y_test, n_repeats=10, random_state=42, n_jobs=2)\n",
    "sorted_idx = r.importances_mean.argsort()\n",
    "\n",
    "for i in r.importances_mean.argsort()[::-1]:\n",
    "        if r.importances_mean[i] - 2 * r.importances_std[i] > 0:\n",
    "             print(f\"{X_test.columns[i]:<8}\"\n",
    "                   f\"{r.importances_mean[i]:.3f}\"\n",
    "                   f\" +/- {r.importances_std[i]:.3f}\")\n",
    "fig, ax = plt.subplots()\n",
    "ax.boxplot(r.importances[sorted_idx].T,\n",
    "           vert=False, labels=X_test.columns[sorted_idx])\n",
    "ax.set_title(\"Random Forest\")\n",
    "fig.tight_layout()\n",
    "plt.show();"
   ]
  }
 ],
 "metadata": {
  "kernelspec": {
   "display_name": "Python 3",
   "language": "python",
   "name": "python3"
  },
  "language_info": {
   "codemirror_mode": {
    "name": "ipython",
    "version": 3
   },
   "file_extension": ".py",
   "mimetype": "text/x-python",
   "name": "python",
   "nbconvert_exporter": "python",
   "pygments_lexer": "ipython3",
   "version": "3.7.1"
  }
 },
 "nbformat": 4,
 "nbformat_minor": 2
}
